{
 "cells": [
  {
   "cell_type": "markdown",
   "metadata": {},
   "source": [
    "# CHAPTER 1: THE MACHINE LEARNING LANDSCAPE"
   ]
  },
  {
   "cell_type": "markdown",
   "metadata": {},
   "source": [
    "---"
   ]
  },
  {
   "cell_type": "markdown",
   "metadata": {},
   "source": [
    "## What is Machine Learning?"
   ]
  },
  {
   "cell_type": "markdown",
   "metadata": {},
   "source": [
    "[Machine Learning is the] field of study that gives computers the ability to learn\n",
    "without being explicitly programmed.\n",
    "—Arthur Samuel, 1959\n",
    "\n",
    "A computer program is said to learn from experience E with respect to some task T\n",
    "and some performance measure P, if its performance on T, as measured by P, improves\n",
    "with experience E.\n",
    "—Tom Mitchell, 1997"
   ]
  },
  {
   "cell_type": "markdown",
   "metadata": {},
   "source": [
    "---"
   ]
  },
  {
   "cell_type": "markdown",
   "metadata": {},
   "source": [
    "## Why Use Machine Learning?"
   ]
  },
  {
   "cell_type": "markdown",
   "metadata": {},
   "source": [
    "- Using traditional approach will make a long list of rules, that will work only  in specific use. With machine learning, ML automaticaly learns which words and phrases are good predictors of spam by detecting unusually frequent patterns of words in the spam examples.\n",
    "- Reveal unsuspected corelations or new trends, and thereby lead to a better understanding of the problem."
   ]
  },
  {
   "cell_type": "markdown",
   "metadata": {},
   "source": [
    "---"
   ]
  },
  {
   "cell_type": "markdown",
   "metadata": {},
   "source": [
    "## Types of Machine Learning Systems"
   ]
  },
  {
   "cell_type": "markdown",
   "metadata": {},
   "source": [
    "- Whether or not they are trained with human supervision (supervised, unsupervised, semisupervised, and Reinforcement Learning).\n",
    "- Whether or not they can learn incrementally on the fly (online versus batch learning).\n",
    "- Whether they work by simply comparing new data points to known data points, or instead detect patterns in the training data and build a predictive model, much like scientists do (instance-based versus model-based learning)."
   ]
  },
  {
   "cell_type": "markdown",
   "metadata": {},
   "source": [
    "### Supervised/Unsupervised Learning"
   ]
  },
  {
   "cell_type": "markdown",
   "metadata": {},
   "source": [
    "#### Supervised learning"
   ]
  },
  {
   "cell_type": "markdown",
   "metadata": {},
   "source": [
    "- Include the desired solutions, called labels.\n",
    "- Types: Classification (categorical) and Regression (numerical)\n",
    "- In machine learning, an attribute is a data type (e.g., \"Mileage\"), while a feature has several meanings depending on the context but generally means an attribute plus its value (e.g., \"Milage = 15,000\")\n",
    "- Some of the most important supervised learning algorithms:\n",
    "    - k-Nearest Neighbors\n",
    "    - Linear Regression\n",
    "    - Logistic Regression\n",
    "    - Support Vector Machines (SVMs)\n",
    "    - Decision Trees and Random Forests\n",
    "    - Neural Networks"
   ]
  },
  {
   "cell_type": "markdown",
   "metadata": {},
   "source": [
    "#### Unsupervised learning"
   ]
  },
  {
   "cell_type": "markdown",
   "metadata": {},
   "source": [
    "- Unlabeled\n",
    "- Some of the most important unsupervised learning algorithms:\n",
    "    - Clustering: \n",
    "        - Cluster data points with similar features\n",
    "        - Make groups with high similarity\n",
    "    - Visualization and dimensionality reduction: \n",
    "        - Feed complex, get 2D or 3D representation\n",
    "        - Simplify data without losing too much information\n",
    "        - Feature extraction: merge or combine features that highly correlated to each other, so we get less features\n",
    "        - Anomaly detection: prevent fraud, removing outliers\n",
    "    - Association rule learning\n",
    "        - Dig large amounts of data and discover interesting relations between attributes"
   ]
  },
  {
   "cell_type": "markdown",
   "metadata": {},
   "source": [
    "#### Semisupervised learning"
   ]
  },
  {
   "cell_type": "markdown",
   "metadata": {},
   "source": [
    "- Partially labeled training data and unlabeled data\n",
    "- Combinations of unsupervised and supervised algorithms"
   ]
  },
  {
   "cell_type": "markdown",
   "metadata": {},
   "source": [
    "#### Reinforcement learning"
   ]
  },
  {
   "cell_type": "markdown",
   "metadata": {},
   "source": [
    "- The learning system (agent) observe the environment, select and perform actions, get rewards or penalties. Learn by itself what is the best strategy (policy) to get the most reward over time"
   ]
  },
  {
   "cell_type": "markdown",
   "metadata": {},
   "source": [
    "### Batch and Online Learning"
   ]
  },
  {
   "cell_type": "markdown",
   "metadata": {},
   "source": [
    "#### Batch learning"
   ]
  },
  {
   "cell_type": "markdown",
   "metadata": {},
   "source": [
    "- The system is incapable of learning incrementally: it must be trained using all the available data. Also called as offline learning\n",
    "- Train it all over again to learn the new version\n",
    "- Requires a lot of computing resources"
   ]
  },
  {
   "cell_type": "markdown",
   "metadata": {},
   "source": [
    "#### Online learning"
   ]
  },
  {
   "cell_type": "markdown",
   "metadata": {},
   "source": [
    "- We traing the system incrementally by feeding it data instances sequentially, either individually or with mini batches\n",
    "- High learning rate means the system will rapidly adapt to new data, but it will also tend to quickly forget the old data\n",
    "- If we get bad data, the performance will decline"
   ]
  },
  {
   "cell_type": "markdown",
   "metadata": {},
   "source": [
    "### Instance-Based vs Model Based Learning"
   ]
  },
  {
   "cell_type": "markdown",
   "metadata": {},
   "source": [
    "#### Instance-based learning"
   ]
  },
  {
   "cell_type": "markdown",
   "metadata": {},
   "source": [
    "- Flag not only to the same sample, but also to new sample that similar to the known sample\n",
    "- The system learns the example by heart, then generalizes to new cases using a similarity measure."
   ]
  },
  {
   "cell_type": "markdown",
   "metadata": {},
   "source": [
    "#### Model-based learning"
   ]
  },
  {
   "cell_type": "markdown",
   "metadata": {},
   "source": [
    "- Build a model of these examples, then use that model to make predictions\n",
    "- Model selection: explore the data, looking insights and choose the best model to use, that represents the data in the best way\n",
    "- Utility function (or fitness function) that measures how good the model is, or we can define a cost function that measures how bad it is."
   ]
  },
  {
   "cell_type": "markdown",
   "metadata": {},
   "source": [
    "---"
   ]
  },
  {
   "cell_type": "markdown",
   "metadata": {},
   "source": [
    "## Main Challenges of Machine Learning"
   ]
  },
  {
   "cell_type": "markdown",
   "metadata": {},
   "source": [
    "### Insufficient Quantity of Training Data"
   ]
  },
  {
   "cell_type": "markdown",
   "metadata": {},
   "source": [
    "- For very simple problems we typically need thousands of examples, and for complex problems such as image or speech recognition we may need millions of examples."
   ]
  },
  {
   "cell_type": "markdown",
   "metadata": {},
   "source": [
    "### Nonrepresentative Training Data"
   ]
  },
  {
   "cell_type": "markdown",
   "metadata": {},
   "source": [
    "- How the training data can represents the general topic of the problem at hand\n",
    "- By using a nonrepresentative training set, we trained a model that is unlikely to make accurate predictions\n",
    "- Source of failures: sampling noise (for small dataset) and sampling bias (the sampling method is flawed)."
   ]
  },
  {
   "cell_type": "markdown",
   "metadata": {},
   "source": [
    "### Poor-Quality Data"
   ]
  },
  {
   "cell_type": "markdown",
   "metadata": {},
   "source": [
    "- If the data is full of errors, outliers, and noise\n",
    "- Better to cleaning it up first\n",
    "- Garbage in, garbage out\n",
    "- If some instances are outliers, the choices are to discard them or try to fix the errors manually.\n",
    "- If some instances are missing a few features, the choices are ignore this attribute, ignore these instances, fill in the missing values, or train one model with the feature and one model without it."
   ]
  },
  {
   "cell_type": "markdown",
   "metadata": {},
   "source": [
    "### Irrelevant Features"
   ]
  },
  {
   "cell_type": "markdown",
   "metadata": {},
   "source": [
    "- Enough relevant features and not too many irrelevant ones.\n",
    "- Feature engineering: get good set of  features that represents the data without losing any important information\n",
    "    - Feature selection: selecting the most useful features\n",
    "    - Feature extraction: combining existing features to produce a more useful one\n",
    "    - Creating new features by gathering new data"
   ]
  },
  {
   "cell_type": "markdown",
   "metadata": {},
   "source": [
    "### Overfitting the Training Data"
   ]
  },
  {
   "cell_type": "markdown",
   "metadata": {},
   "source": [
    "- Overfitting: the model performs well on the training data, but it does not generalize well\n",
    "- If the data is too noisy, the model will also look at the small irrelevant pattern that maybe exist within the data.\n",
    "- Overfitting happens when the model is too complex relative to the amount and noisiness of the training data, solutions:\n",
    "    - Simplify the model, reducing the number of attributes\n",
    "    - Gather more training data\n",
    "    - Reduce the noisiness in the training data (fix data errors, remove outliers)\n",
    "- Regularization: contraining a model to make it simpler and reduce the rist of overfitting, makes the model to have a smaller slope. The amount of regularization can be controlled by a hyperparameter.\n",
    "- Hyperparameter: a parameter of a learning algorithm, it must be set prior to training and remanins constant during training, large regulartization parameter, we get almost flat model"
   ]
  },
  {
   "cell_type": "markdown",
   "metadata": {},
   "source": [
    "### Underfitting the Training Data"
   ]
  },
  {
   "cell_type": "markdown",
   "metadata": {},
   "source": [
    "- The opposite of overfitting, the model is to simple to learn the underlying structure of the data.\n",
    "- Solutions:\n",
    "    - Selecting more powerful model with more parameters\n",
    "    - Feeding better features to the learning algorithm\n",
    "    - Reducing the constrains on the model"
   ]
  },
  {
   "cell_type": "markdown",
   "metadata": {},
   "source": [
    "---"
   ]
  },
  {
   "cell_type": "markdown",
   "metadata": {},
   "source": [
    "## Testing and Validating"
   ]
  },
  {
   "cell_type": "markdown",
   "metadata": {},
   "source": [
    "- Put the model in production and monitor how well it performs. \n",
    "- Split the data into training set and test set\n",
    "- The error rate on new cases is called the generalization error (or out-of-sample error)\n",
    "- 80% for training set and 20% for test set\n",
    "- Training set for training the data, validation set to find hyperparameters, and test set to know the generalization performance (or using cross-validation"
   ]
  }
 ],
 "metadata": {
  "kernelspec": {
   "display_name": "Python 3",
   "language": "python",
   "name": "python3"
  },
  "language_info": {
   "codemirror_mode": {
    "name": "ipython",
    "version": 3
   },
   "file_extension": ".py",
   "mimetype": "text/x-python",
   "name": "python",
   "nbconvert_exporter": "python",
   "pygments_lexer": "ipython3",
   "version": "3.7.3"
  }
 },
 "nbformat": 4,
 "nbformat_minor": 2
}
