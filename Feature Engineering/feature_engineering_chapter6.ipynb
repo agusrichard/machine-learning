{
  "nbformat": 4,
  "nbformat_minor": 0,
  "metadata": {
    "colab": {
      "name": "feature-engineering-chapter6.ipynb",
      "provenance": []
    },
    "kernelspec": {
      "name": "python3",
      "display_name": "Python 3"
    }
  },
  "cells": [
    {
      "cell_type": "markdown",
      "metadata": {
        "id": "2pPbk_9KTbEJ",
        "colab_type": "text"
      },
      "source": [
        "# Chapter 6\n",
        "# Dimensionality Reduction: Squashing the Data Pancake with PCA"
      ]
    },
    {
      "cell_type": "markdown",
      "metadata": {
        "id": "KNXtB0PtUDqi",
        "colab_type": "text"
      },
      "source": [
        "Model-based techniques require information from the data"
      ]
    },
    {
      "cell_type": "markdown",
      "metadata": {
        "id": "qMQfuTMEUhtE",
        "colab_type": "text"
      },
      "source": [
        "## Intuition"
      ]
    },
    {
      "cell_type": "markdown",
      "metadata": {
        "id": "jSwCxFm_Uk5k",
        "colab_type": "text"
      },
      "source": [
        "- Dimensionality reduction is about getting rid of \"uninformative information\" while retaining the crucial bits.\n",
        "- PCA focuses on the notion of linear dependency.\n",
        "- If the column space is small compared to the total number of features, then most\n",
        "of the features are linear combinations of a few key features.\n",
        "- Linearly dependent\n",
        "features are a waste of space and computation power because the information\n",
        "could have been encoded in much fewer features.\n",
        "- The key idea is to replace redundant features with a few new featuers that adequately summarize information contained in the original feature space.\n",
        "- The new data blob should retain as much of the original volume as possible.\n",
        "- Mathematically, it translates into maximizing the variance of the data points in the new feature space."
      ]
    }
  ]
}