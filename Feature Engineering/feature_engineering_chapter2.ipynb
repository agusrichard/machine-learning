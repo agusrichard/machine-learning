{
  "nbformat": 4,
  "nbformat_minor": 0,
  "metadata": {
    "colab": {
      "name": "feature-engineering-chapter2.ipynb",
      "provenance": [],
      "collapsed_sections": []
    },
    "kernelspec": {
      "name": "python3",
      "display_name": "Python 3"
    }
  },
  "cells": [
    {
      "cell_type": "markdown",
      "metadata": {
        "id": "NTXdtJjdSj_V",
        "colab_type": "text"
      },
      "source": [
        "# Chapter 2: Fancy Tricks with Simple Numbers"
      ]
    },
    {
      "cell_type": "markdown",
      "metadata": {
        "id": "Zxheza0zSuxi",
        "colab_type": "text"
      },
      "source": [
        "- Numeric data also need feature engineering\n",
        "- Sanity check for numeric data: \n",
        "    - Whether the magnitude matters. Such as the number of daily visits to a website.\n",
        "    - Scale of the features. What are the largest and the smalles values? Do they span several orders of magnitude?\n",
        "    - The distribution of numeric features. The training process of a linear regression model assumes that prediction errors are distributed like a Gaussian. If the target distribution has multi-hump, skew to right or left. Then we need to transform the target vector, by power transform (log transform).\n",
        "    - Composing multiple features into more complex features. Complex features may themselves be the output of statistical models (model stacking) \n",
        "- Need scaling: k-means clustering, k-nearest neighbors radial basis function (RBF) and anything using euclidean distance\n",
        "- No need scaling: space partitioning trees, decision trees, gradient boosted machines, random forests\n",
        "- Feature selection can reduce the computational expense\n",
        "\n"
      ]
    },
    {
      "cell_type": "markdown",
      "metadata": {
        "id": "BMxat472Wxa2",
        "colab_type": "text"
      },
      "source": [
        "## Scalars, Vectors, and Spaces"
      ]
    },
    {
      "cell_type": "markdown",
      "metadata": {
        "id": "e1s5qVEhW3Jd",
        "colab_type": "text"
      },
      "source": [
        "- A single numeric feature is also known as a scalar. An\n",
        "ordered list of scalars is known as a vector. Vectors sit within a vector space."
      ]
    },
    {
      "cell_type": "markdown",
      "metadata": {
        "id": "g82G1hN-X1uv",
        "colab_type": "text"
      },
      "source": [
        "## Dealing with Counts"
      ]
    },
    {
      "cell_type": "markdown",
      "metadata": {
        "id": "MA9E8-xRYBFs",
        "colab_type": "text"
      },
      "source": [
        "### Binarization"
      ]
    },
    {
      "cell_type": "markdown",
      "metadata": {
        "id": "fUv5YQZWYSpt",
        "colab_type": "text"
      },
      "source": [
        "Transforming the target or column into binary representation, 0 or 1."
      ]
    },
    {
      "cell_type": "markdown",
      "metadata": {
        "id": "aKJzWELcokMj",
        "colab_type": "text"
      },
      "source": [
        "### Quantization or Binning"
      ]
    },
    {
      "cell_type": "markdown",
      "metadata": {
        "id": "ILAlkSxRo1V6",
        "colab_type": "text"
      },
      "source": [
        "- Raw counts that span several orders of magnitude are problematic for many models.\n",
        "- A large count in one element of the data vecotr would outweigh the similarity in all other elements, which could throw off the entire similarity measurement. One solution is group the counts into bins, and get rid of the actual count values. It maps continuous number into discrete one."
      ]
    },
    {
      "cell_type": "markdown",
      "metadata": {
        "id": "5xpx8sWyqvH0",
        "colab_type": "text"
      },
      "source": [
        "__Fixed-width binning__"
      ]
    },
    {
      "cell_type": "markdown",
      "metadata": {
        "id": "_4CPLUwCqx59",
        "colab_type": "text"
      },
      "source": [
        "- Each bin contains a specific numeric range. They can be linearly scaled or exponentially scaled. Or we can make customed defined ranges which correspond to stages of life.\n",
        "- When the numbers span multiple magnitudes, it may be better to group by powers of 10 (or powers of any constant)"
      ]
    },
    {
      "cell_type": "code",
      "metadata": {
        "id": "pTj7UiELtm-v",
        "colab_type": "code",
        "outputId": "cf68ca32-8c8b-44af-ccf5-b1bb6b27e6fc",
        "colab": {
          "base_uri": "https://localhost:8080/",
          "height": 36
        }
      },
      "source": [
        "import numpy as np\n",
        "\n",
        "# generate 20 random integers uniformly between 0 and 99\n",
        "small_counts = np.random.randint(0, 100, 20)\n",
        "print(small_counts)"
      ],
      "execution_count": 0,
      "outputs": [
        {
          "output_type": "stream",
          "text": [
            "[ 1 59 14 59  3 72 35 52 48 43  4  8 31 11 99 54 60 23 11 50]\n"
          ],
          "name": "stdout"
        }
      ]
    },
    {
      "cell_type": "code",
      "metadata": {
        "id": "fV51nAOLubpf",
        "colab_type": "code",
        "outputId": "e7c49df2-807a-4305-8972-3d5885fda0b1",
        "colab": {
          "base_uri": "https://localhost:8080/",
          "height": 36
        }
      },
      "source": [
        "# map to evenly spaced bins 0-9 by division\n",
        "np.floor_divide(small_counts, 10)"
      ],
      "execution_count": 0,
      "outputs": [
        {
          "output_type": "execute_result",
          "data": {
            "text/plain": [
              "array([0, 5, 1, 5, 0, 7, 3, 5, 4, 4, 0, 0, 3, 1, 9, 5, 6, 2, 1, 5])"
            ]
          },
          "metadata": {
            "tags": []
          },
          "execution_count": 2
        }
      ]
    },
    {
      "cell_type": "code",
      "metadata": {
        "id": "T8x99W3BuxeJ",
        "colab_type": "code",
        "outputId": "c1eaa3b4-af9b-4f7b-aaea-6819d061eb0d",
        "colab": {
          "base_uri": "https://localhost:8080/",
          "height": 56
        }
      },
      "source": [
        "# an array of counts that span several magnitudes\n",
        "large_counts = [296, 8286, 64011, 80, 3, 725, 867, 2215, 7689, 11495, \n",
        "                91897, 44, 28, 7971, 926, 122, 22222]\n",
        "\n",
        "# map to exponential-width bins via the log function\n",
        "np.floor(np.log10(large_counts))"
      ],
      "execution_count": 0,
      "outputs": [
        {
          "output_type": "execute_result",
          "data": {
            "text/plain": [
              "array([2., 3., 4., 1., 0., 2., 2., 3., 3., 4., 4., 1., 1., 3., 2., 2., 4.])"
            ]
          },
          "metadata": {
            "tags": []
          },
          "execution_count": 5
        }
      ]
    },
    {
      "cell_type": "markdown",
      "metadata": {
        "id": "EXzAsD4svHwB",
        "colab_type": "text"
      },
      "source": [
        "__Quantile Binnning__"
      ]
    },
    {
      "cell_type": "markdown",
      "metadata": {
        "id": "McPfaIAmxtaZ",
        "colab_type": "text"
      },
      "source": [
        "- Problem: if there are large gaps in the counts then there will be many empty bins with no data. \n",
        "- Can be solved by adaptively positioning the bins based on the distribution of the data."
      ]
    },
    {
      "cell_type": "code",
      "metadata": {
        "id": "rVB7mgE1y0Kv",
        "colab_type": "code",
        "outputId": "da5edd61-db85-4400-d699-4207602994e3",
        "colab": {
          "base_uri": "https://localhost:8080/",
          "height": 36
        }
      },
      "source": [
        "import pandas as pd\n",
        "\n",
        "# map the counts to quartiles\n",
        "pd.qcut(large_counts, 4, labels=False)"
      ],
      "execution_count": 0,
      "outputs": [
        {
          "output_type": "execute_result",
          "data": {
            "text/plain": [
              "array([1, 2, 3, 0, 0, 1, 1, 2, 2, 3, 3, 0, 0, 2, 1, 0, 3])"
            ]
          },
          "metadata": {
            "tags": []
          },
          "execution_count": 9
        }
      ]
    },
    {
      "cell_type": "code",
      "metadata": {
        "id": "8M1Tio09y-9n",
        "colab_type": "code",
        "outputId": "883dbd83-1faa-4d77-f743-d7a282715694",
        "colab": {
          "base_uri": "https://localhost:8080/",
          "height": 92
        }
      },
      "source": [
        "# compute the quantiles themselves\n",
        "large_counts_series = pd.Series(large_counts)\n",
        "large_counts_series.quantile([0.25, 0.5, 0.75])"
      ],
      "execution_count": 0,
      "outputs": [
        {
          "output_type": "execute_result",
          "data": {
            "text/plain": [
              "0.25     122.0\n",
              "0.50     926.0\n",
              "0.75    8286.0\n",
              "dtype: float64"
            ]
          },
          "metadata": {
            "tags": []
          },
          "execution_count": 10
        }
      ]
    },
    {
      "cell_type": "markdown",
      "metadata": {
        "id": "STKODzbPbLyV",
        "colab_type": "text"
      },
      "source": [
        "---"
      ]
    },
    {
      "cell_type": "markdown",
      "metadata": {
        "id": "7wdesKvyzfXz",
        "colab_type": "text"
      },
      "source": [
        "## Log Transformation"
      ]
    },
    {
      "cell_type": "markdown",
      "metadata": {
        "id": "-3XLb3JozjfU",
        "colab_type": "text"
      },
      "source": [
        "- The log function is the inverse of the exponential function. \n",
        "- The log function compresses the range of large numbers and expands the range of small numbers. The larger x is, the slower log(x) increments.\n",
        "- The log transform is a powerful tool for dealing with positive numbers with heavy-tailed distribution. (A heavy-tailed distribution places more probability mass in the tail range than a gaussian distribution)"
      ]
    },
    {
      "cell_type": "markdown",
      "metadata": {
        "id": "W-Xt53Ev2SBz",
        "colab_type": "text"
      },
      "source": [
        "### Log Transform in Action"
      ]
    },
    {
      "cell_type": "code",
      "metadata": {
        "id": "VN0i58JE2bOd",
        "colab_type": "code",
        "colab": {}
      },
      "source": [
        "# # adding new column that contains the log-transformed data\n",
        "# dataset['log_column'] = np.log10(dataset['column'] + 1)\n",
        "\n",
        "# # train linear regression models\n",
        "# scores_orig = cross_val_score(LinearRegression(), datataset['column'],\n",
        "#                               dataset['target'], cv=10, scoring='r2')\n",
        "# scores_log = cross_val_score(LinearRegression(), dataset['column'],\n",
        "#                              dataset['target'], cv=10, scoring='r2')"
      ],
      "execution_count": 0,
      "outputs": []
    },
    {
      "cell_type": "markdown",
      "metadata": {
        "id": "wl9iXowq4ZNO",
        "colab_type": "text"
      },
      "source": [
        "Why is the log transform has its effect? the log transform reshaped the x-axis, pulling the articles with lage outliers in the target value further out toward the right hand side of the axis. The model try to fit the smaller value harder. This how it works that way, without log transform, small different in input has large different in the output. The best one is small changes in input, will have smaller changes in output, it also aplies for large changes."
      ]
    },
    {
      "cell_type": "markdown",
      "metadata": {
        "id": "ZcssRbNR7HQp",
        "colab_type": "text"
      },
      "source": [
        "__The Importance of Data Visualization__\n",
        "\n",
        "It can shows us that several model can not catch the relationship between the feature and target. When building models, it is a good idea to visually inspect the relationships\n",
        "between input and output, and between different input features."
      ]
    },
    {
      "cell_type": "markdown",
      "metadata": {
        "id": "ALh01h048NJb",
        "colab_type": "text"
      },
      "source": [
        "### Power Transforms: Generalization of the Log Transform"
      ]
    },
    {
      "cell_type": "markdown",
      "metadata": {
        "id": "oYgDkh-u8d19",
        "colab_type": "text"
      },
      "source": [
        "- The log transform is an example of power transform. In statistical terms, it is called variance-stabilizing transformation.\n",
        "- Poisson distribution: a heavy-tailed distribution with a variance that is equal to its mean, hence, the larger its center of mass, the larger its variance, and the heavier the tail.\n",
        "- Power transforms change the distribution of the variable so\n",
        "that the variance is no longer dependent on the mean."
      ]
    },
    {
      "cell_type": "markdown",
      "metadata": {
        "id": "daTj9HbpHl9q",
        "colab_type": "text"
      },
      "source": [
        "The Box-Cox transform:\n",
        "\n",
        " $$ \\hat{x} =   \\left\\{\n",
        "\\begin{array}{ll}\n",
        "     \\frac{x^\\lambda - 1}{\\lambda} & if\\;\\lambda \\neq 0   \\\\\n",
        "      ln(x) & if\\;\\lambda = 0 \\\\\n",
        "\\end{array} \n",
        "\\right.  $$"
      ]
    },
    {
      "cell_type": "markdown",
      "metadata": {
        "id": "qpRwouDbIkUx",
        "colab_type": "text"
      },
      "source": [
        "- lambda = 0: log transform\n",
        "- lambda = 0.5: a scaled and shifted version of the square root transform.\n",
        "- Setting lambda to be less than 1 compresses the higher values, and setting lambda higher than 1 has the opposite effect."
      ]
    },
    {
      "cell_type": "markdown",
      "metadata": {
        "id": "Ojo8BkAaJgV9",
        "colab_type": "text"
      },
      "source": [
        "- Only works when the data is positive. For non positive data, one could shift the values by adding a fixed constant.\n",
        "- When applying box-cox transformation or power transformaion, we have determine the value for lambda. It can be done via maximum likelihood or bayesian method."
      ]
    },
    {
      "cell_type": "code",
      "metadata": {
        "id": "9GE8uBNAKQKJ",
        "colab_type": "code",
        "colab": {}
      },
      "source": [
        "# from scipy import stats\n",
        "\n",
        "# # check the minimum value in the data, because box-cox only works\n",
        "# # for positive data\n",
        "\n",
        "# # setting the input parameter lambda to 0 gives us the log transform\n",
        "# x_log = stats.boxcox(data['column'], lmbda=0)\n",
        "# # by default the scipy implementation of box-cox transform\n",
        "# # finds the lambda parameter than will make the output the closest to\n",
        "# # a normal distribution\n",
        "# x_bc, bc_params = stats.boxcox(data['column'])"
      ],
      "execution_count": 0,
      "outputs": []
    },
    {
      "cell_type": "markdown",
      "metadata": {
        "id": "02koQyOrMHU3",
        "colab_type": "text"
      },
      "source": [
        "A probability plot or probplot is an easy way to visually compare an empirical distribution of data against a theoretical distribution."
      ]
    },
    {
      "cell_type": "code",
      "metadata": {
        "id": "mYjv0tq8MU3i",
        "colab_type": "code",
        "colab": {}
      },
      "source": [
        "# prob1 = stats.probplot(data['column'], dist=stats.norm, ax=ax)"
      ],
      "execution_count": 0,
      "outputs": []
    },
    {
      "cell_type": "code",
      "metadata": {
        "id": "68As6nmWNNvA",
        "colab_type": "code",
        "colab": {}
      },
      "source": [
        "import numpy as np\n",
        "import matplotlib.pyplot as plt"
      ],
      "execution_count": 0,
      "outputs": []
    },
    {
      "cell_type": "code",
      "metadata": {
        "id": "qNAbCHZ2NWyQ",
        "colab_type": "code",
        "colab": {}
      },
      "source": [
        "x = np.random.normal(loc=0, scale=1.5, size=1000)"
      ],
      "execution_count": 0,
      "outputs": []
    },
    {
      "cell_type": "code",
      "metadata": {
        "id": "QDFgK6AtPb96",
        "colab_type": "code",
        "outputId": "ee9087fe-ec0d-48cd-d84c-27b16d76e26d",
        "colab": {
          "base_uri": "https://localhost:8080/",
          "height": 269
        }
      },
      "source": [
        "plt.hist(x, bins=50);"
      ],
      "execution_count": 0,
      "outputs": [
        {
          "output_type": "display_data",
          "data": {
            "image/png": "[encoded data removed]",
            "text/plain": [
              "<Figure size 432x288 with 1 Axes>"
            ]
          },
          "metadata": {
            "tags": []
          }
        }
      ]
    },
    {
      "cell_type": "code",
      "metadata": {
        "id": "-saus9SNPgVP",
        "colab_type": "code",
        "outputId": "bdc7c475-5419-4c6f-afca-21c209df0673",
        "colab": {
          "base_uri": "https://localhost:8080/",
          "height": 295
        }
      },
      "source": [
        "from scipy.stats import probplot, norm\n",
        "fig, ax = plt.subplots(1, 1)\n",
        "prob1 = probplot(x, dist=norm, plot=ax)"
      ],
      "execution_count": 0,
      "outputs": [
        {
          "output_type": "display_data",
          "data": {
            "image/png": "[encoded data removed]",
            "text/plain": [
              "<Figure size 432x288 with 1 Axes>"
            ]
          },
          "metadata": {
            "tags": []
          }
        }
      ]
    },
    {
      "cell_type": "markdown",
      "metadata": {
        "id": "gs8flRZ9QY4U",
        "colab_type": "text"
      },
      "source": [
        "---"
      ]
    },
    {
      "cell_type": "markdown",
      "metadata": {
        "id": "td-HGSkXQzvf",
        "colab_type": "text"
      },
      "source": [
        "## Feature Scaling and Normalization"
      ]
    },
    {
      "cell_type": "markdown",
      "metadata": {
        "id": "xe3mkIwCQ2nd",
        "colab_type": "text"
      },
      "source": [
        "### Min-Max Scaling"
      ]
    },
    {
      "cell_type": "markdown",
      "metadata": {
        "id": "EmRBQbrFRCJe",
        "colab_type": "text"
      },
      "source": [
        "Min-max scaling squeezes (or stretches) all feature values to be within the range of [0,1].\n",
        "\n",
        "$\\hat{x} = \\frac{x - min(x)}{max(x) - min(x)}$"
      ]
    },
    {
      "cell_type": "markdown",
      "metadata": {
        "id": "49JlHBQdUXUD",
        "colab_type": "text"
      },
      "source": [
        "### Standardization (Variance Scaling)"
      ]
    },
    {
      "cell_type": "markdown",
      "metadata": {
        "id": "lsbWhB3DUiQ9",
        "colab_type": "text"
      },
      "source": [
        "$\\hat{x} = \\frac{x-mean(x)}{\\sqrt{var(x)}}$"
      ]
    },
    {
      "cell_type": "markdown",
      "metadata": {
        "id": "voqI8VW0U9Z_",
        "colab_type": "text"
      },
      "source": [
        "!!!DON'T \"CENTER\" SPARSE DATA!!!\n",
        "\n",
        "Bag-of-words is a sparse representation, and most classification libraries optimize for sparse inputs."
      ]
    },
    {
      "cell_type": "markdown",
      "metadata": {
        "id": "dmobsJjbVI8k",
        "colab_type": "text"
      },
      "source": [
        "### $l^2$ Normalization"
      ]
    },
    {
      "cell_type": "markdown",
      "metadata": {
        "id": "l3LPTDM3VoYp",
        "colab_type": "text"
      },
      "source": [
        "It normalizes (divides) the original feature value by the euclidean norm."
      ]
    },
    {
      "cell_type": "markdown",
      "metadata": {
        "id": "FwUKpnhzVzDH",
        "colab_type": "text"
      },
      "source": [
        "$\\hat{x} = \\frac{x}{||x||_2}$"
      ]
    },
    {
      "cell_type": "markdown",
      "metadata": {
        "id": "ui4Xo1Y5V_03",
        "colab_type": "text"
      },
      "source": [
        "Scaling does not change the shape of the single-feature distribution"
      ]
    },
    {
      "cell_type": "markdown",
      "metadata": {
        "id": "N_0XaOZnWf8c",
        "colab_type": "text"
      },
      "source": [
        "Feature scaling is useful in situations where a set of input features differs wildly in scale."
      ]
    },
    {
      "cell_type": "markdown",
      "metadata": {
        "id": "2zPfhpDmW9EQ",
        "colab_type": "text"
      },
      "source": [
        "## Interaction Features"
      ]
    },
    {
      "cell_type": "markdown",
      "metadata": {
        "id": "rUaIDBhNW_5U",
        "colab_type": "text"
      },
      "source": [
        "- A simple pairwise interaction feature is the product of two features.\n",
        "- Decision tree-based model getthis for free, but generalized linear models often find interaction features very helpful.\n",
        "- This allows us to capture interactions between features, and hence these pairs called interaction features.\n",
        "- If x and x are binary, then their product x1x2 is the\n",
        "logical function x1 AND x2.\n",
        "- Very simple to formulate, but they very expensive to use.\n",
        "- Ways for the expensive computation:\n",
        "    - Perform feature selection on top of all of the interaction features. Selecting the best features for a problem.    "
      ]
    },
    {
      "cell_type": "markdown",
      "metadata": {
        "id": "-VBqWiPRZd23",
        "colab_type": "text"
      },
      "source": [
        "---"
      ]
    },
    {
      "cell_type": "markdown",
      "metadata": {
        "id": "K7RJlYzebIbb",
        "colab_type": "text"
      },
      "source": [
        "## Feature Selection"
      ]
    },
    {
      "cell_type": "markdown",
      "metadata": {
        "id": "l_gOBmUTbRPK",
        "colab_type": "text"
      },
      "source": [
        "- Prune away nonuseful features in order to reduce the complexity of the resulting model.\n",
        "- In\n",
        "order to arrive at such a model, some feature selection techniques require\n",
        "training more than one candidate model.\n",
        "\n",
        "Roughly speaking, feature selection falls into three classes:"
      ]
    },
    {
      "cell_type": "markdown",
      "metadata": {
        "id": "0-cHsj0rbxwM",
        "colab_type": "text"
      },
      "source": [
        "Filter\n",
        "\n",
        "Filtering techniques preprocess features to remove ones that are unlikely to\n",
        "be useful for the model. For example, one could compute the correlation or\n",
        "mutual information between each feature and the response variable, and filter\n",
        "out the features that fall below a threshold. It is best to do prefiltering conservatively, so as not to\n",
        "inadvertently eliminate useful features before they even make it to the model\n",
        "training step.\n",
        "\n"
      ]
    },
    {
      "cell_type": "markdown",
      "metadata": {
        "id": "QCZVyzQ0cXya",
        "colab_type": "text"
      },
      "source": [
        "Wrapper methods\n",
        "\n",
        "These techniques are expensive, but they allow you to try out subsets of\n",
        "features, which means you won’t accidentally prune away features that are\n",
        "uninformative by themselves but useful when taken in combination. The\n",
        "wrapper method treats the model as a black box that provides a quality score\n",
        "of a proposed subset for features. There is a separate method that iteratively\n",
        "refines the subset."
      ]
    },
    {
      "cell_type": "markdown",
      "metadata": {
        "id": "U6u6Ks-AccUA",
        "colab_type": "text"
      },
      "source": [
        "Embedded methods\n",
        "\n",
        "These methods perform feature selection as part of the model training\n",
        "process. For example, a decision tree inherently performs feature selection\n",
        "because it selects one feature on which to split the tree at each training step. Another example is l1 regularization. Compared to filtering,\n",
        "embedded methods select features that are specific to the model. In this\n",
        "sense, embedded methods strike a balance between computational expense\n",
        "and quality of results."
      ]
    }
  ]
}