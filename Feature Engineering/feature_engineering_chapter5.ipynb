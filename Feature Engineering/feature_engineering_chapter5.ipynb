{
  "nbformat": 4,
  "nbformat_minor": 0,
  "metadata": {
    "colab": {
      "name": "feature-engineering-chapter5.ipynb",
      "provenance": [],
      "collapsed_sections": []
    },
    "kernelspec": {
      "name": "python3",
      "display_name": "Python 3"
    }
  },
  "cells": [
    {
      "cell_type": "markdown",
      "metadata": {
        "id": "iwUkNCiSeT2X",
        "colab_type": "text"
      },
      "source": [
        "# Chapter 5\n",
        "# Categorical Variables: Counting Eggs in the Age of Robotic Chickens"
      ]
    },
    {
      "cell_type": "markdown",
      "metadata": {
        "id": "KW-dmS6Se6_-",
        "colab_type": "text"
      },
      "source": [
        "- Used to represent categories or labels.\n",
        "- The values may be represented nunerically, but cannot be ordered with respect to one another. Nonordinal!\n"
      ]
    },
    {
      "cell_type": "markdown",
      "metadata": {
        "id": "Zs_6m6P_fqwo",
        "colab_type": "text"
      },
      "source": [
        "## Encoding Categorical Variables"
      ]
    },
    {
      "cell_type": "markdown",
      "metadata": {
        "id": "TDbqrVubg0nn",
        "colab_type": "text"
      },
      "source": [
        "### One-Hot Encoding"
      ]
    },
    {
      "cell_type": "markdown",
      "metadata": {
        "id": "dvDR8s4shXtO",
        "colab_type": "text"
      },
      "source": [
        "- Implemented in scikit-learn as sklearn.preprocessing.OneHot\n",
        "Encoder.\n",
        "- The sum of all bits must be equal to 1.\n",
        "- Linear dependent features are slightly annoying because they mean that the\n",
        "trained linear models will not be unique. Different linear combinations of the\n",
        "features can make the same predictions, so we would need to jump through extra\n",
        "hoops to understand the effect of a feature on the prediction."
      ]
    },
    {
      "cell_type": "markdown",
      "metadata": {
        "id": "oG6IIg6kiM7o",
        "colab_type": "text"
      },
      "source": [
        "### Dummy Encoding"
      ]
    },
    {
      "cell_type": "markdown",
      "metadata": {
        "id": "uzloQBsJiZF5",
        "colab_type": "text"
      },
      "source": [
        "- Dummy encoding removes the extra degree of freedom by using only k-1 features in the representation."
      ]
    },
    {
      "cell_type": "code",
      "metadata": {
        "id": "TJR2KSgPLKCX",
        "colab_type": "code",
        "colab": {}
      },
      "source": [
        "import pandas as pd\n",
        "from sklearn.linear_model import LinearRegression"
      ],
      "execution_count": 0,
      "outputs": []
    },
    {
      "cell_type": "code",
      "metadata": {
        "id": "OgNhJpUlMHFJ",
        "colab_type": "code",
        "colab": {}
      },
      "source": [
        "# Define a toy dataset of apartment rental prices in\n",
        "# New York, San Francisco, and Seattle\n",
        "df = pd.DataFrame({'City': ['SF', 'SF', 'SF', 'NYC', 'NYC', 'NYC',\n",
        "                            'Seattle', 'Seattle', 'Seattle'],\n",
        "                   'Rent': [3999, 4000, 4001, 3499, 3500, 3501, 2499, 2500, 2501]})"
      ],
      "execution_count": 0,
      "outputs": []
    },
    {
      "cell_type": "code",
      "metadata": {
        "id": "AmzWhJZ-McjW",
        "colab_type": "code",
        "outputId": "f58f7a39-b269-406f-ff1c-60b883bcb0dc",
        "colab": {
          "base_uri": "https://localhost:8080/",
          "height": 35
        }
      },
      "source": [
        "df['Rent'].mean()"
      ],
      "execution_count": 0,
      "outputs": [
        {
          "output_type": "execute_result",
          "data": {
            "text/plain": [
              "3333.3333333333335"
            ]
          },
          "metadata": {
            "tags": []
          },
          "execution_count": 3
        }
      ]
    },
    {
      "cell_type": "code",
      "metadata": {
        "id": "wW4Bw2uXMeUs",
        "colab_type": "code",
        "outputId": "4b64e9b9-61f4-404d-c9dc-3024941281c1",
        "colab": {
          "base_uri": "https://localhost:8080/",
          "height": 332
        }
      },
      "source": [
        "one_hot_df = pd.get_dummies(df, prefix=['city'])\n",
        "one_hot_df"
      ],
      "execution_count": 0,
      "outputs": [
        {
          "output_type": "execute_result",
          "data": {
            "text/html": [
              "<div>\n",
              "<style scoped>\n",
              "    .dataframe tbody tr th:only-of-type {\n",
              "        vertical-align: middle;\n",
              "    }\n",
              "\n",
              "    .dataframe tbody tr th {\n",
              "        vertical-align: top;\n",
              "    }\n",
              "\n",
              "    .dataframe thead th {\n",
              "        text-align: right;\n",
              "    }\n",
              "</style>\n",
              "<table border=\"1\" class=\"dataframe\">\n",
              "  <thead>\n",
              "    <tr style=\"text-align: right;\">\n",
              "      <th></th>\n",
              "      <th>Rent</th>\n",
              "      <th>city_NYC</th>\n",
              "      <th>city_SF</th>\n",
              "      <th>city_Seattle</th>\n",
              "    </tr>\n",
              "  </thead>\n",
              "  <tbody>\n",
              "    <tr>\n",
              "      <th>0</th>\n",
              "      <td>3999</td>\n",
              "      <td>0</td>\n",
              "      <td>1</td>\n",
              "      <td>0</td>\n",
              "    </tr>\n",
              "    <tr>\n",
              "      <th>1</th>\n",
              "      <td>4000</td>\n",
              "      <td>0</td>\n",
              "      <td>1</td>\n",
              "      <td>0</td>\n",
              "    </tr>\n",
              "    <tr>\n",
              "      <th>2</th>\n",
              "      <td>4001</td>\n",
              "      <td>0</td>\n",
              "      <td>1</td>\n",
              "      <td>0</td>\n",
              "    </tr>\n",
              "    <tr>\n",
              "      <th>3</th>\n",
              "      <td>3499</td>\n",
              "      <td>1</td>\n",
              "      <td>0</td>\n",
              "      <td>0</td>\n",
              "    </tr>\n",
              "    <tr>\n",
              "      <th>4</th>\n",
              "      <td>3500</td>\n",
              "      <td>1</td>\n",
              "      <td>0</td>\n",
              "      <td>0</td>\n",
              "    </tr>\n",
              "    <tr>\n",
              "      <th>5</th>\n",
              "      <td>3501</td>\n",
              "      <td>1</td>\n",
              "      <td>0</td>\n",
              "      <td>0</td>\n",
              "    </tr>\n",
              "    <tr>\n",
              "      <th>6</th>\n",
              "      <td>2499</td>\n",
              "      <td>0</td>\n",
              "      <td>0</td>\n",
              "      <td>1</td>\n",
              "    </tr>\n",
              "    <tr>\n",
              "      <th>7</th>\n",
              "      <td>2500</td>\n",
              "      <td>0</td>\n",
              "      <td>0</td>\n",
              "      <td>1</td>\n",
              "    </tr>\n",
              "    <tr>\n",
              "      <th>8</th>\n",
              "      <td>2501</td>\n",
              "      <td>0</td>\n",
              "      <td>0</td>\n",
              "      <td>1</td>\n",
              "    </tr>\n",
              "  </tbody>\n",
              "</table>\n",
              "</div>"
            ],
            "text/plain": [
              "   Rent  city_NYC  city_SF  city_Seattle\n",
              "0  3999         0        1             0\n",
              "1  4000         0        1             0\n",
              "2  4001         0        1             0\n",
              "3  3499         1        0             0\n",
              "4  3500         1        0             0\n",
              "5  3501         1        0             0\n",
              "6  2499         0        0             1\n",
              "7  2500         0        0             1\n",
              "8  2501         0        0             1"
            ]
          },
          "metadata": {
            "tags": []
          },
          "execution_count": 4
        }
      ]
    },
    {
      "cell_type": "code",
      "metadata": {
        "id": "z7WT8SQxMmaM",
        "colab_type": "code",
        "colab": {}
      },
      "source": [
        "model = LinearRegression().fit(one_hot_df[['city_NYC', 'city_SF', 'city_Seattle']],\n",
        "                                one_hot_df['Rent'])"
      ],
      "execution_count": 0,
      "outputs": []
    },
    {
      "cell_type": "code",
      "metadata": {
        "id": "U_eQ1hfhM6dV",
        "colab_type": "code",
        "outputId": "2eb9c776-ae8a-4c22-e12e-62e53063f22e",
        "colab": {
          "base_uri": "https://localhost:8080/",
          "height": 35
        }
      },
      "source": [
        "model.coef_"
      ],
      "execution_count": 0,
      "outputs": [
        {
          "output_type": "execute_result",
          "data": {
            "text/plain": [
              "array([ 166.66666667,  666.66666667, -833.33333333])"
            ]
          },
          "metadata": {
            "tags": []
          },
          "execution_count": 8
        }
      ]
    },
    {
      "cell_type": "code",
      "metadata": {
        "id": "-qK4MmFUNF0I",
        "colab_type": "code",
        "outputId": "34e10ec0-3d40-4bd6-a3ec-807b5f9a5ce1",
        "colab": {
          "base_uri": "https://localhost:8080/",
          "height": 35
        }
      },
      "source": [
        "model.intercept_"
      ],
      "execution_count": 0,
      "outputs": [
        {
          "output_type": "execute_result",
          "data": {
            "text/plain": [
              "3333.3333333333335"
            ]
          },
          "metadata": {
            "tags": []
          },
          "execution_count": 9
        }
      ]
    },
    {
      "cell_type": "code",
      "metadata": {
        "id": "jP7-f81GNJRl",
        "colab_type": "code",
        "outputId": "ba025f82-6862-4aff-8251-9c7972f90040",
        "colab": {
          "base_uri": "https://localhost:8080/",
          "height": 332
        }
      },
      "source": [
        "dummy_df = pd.get_dummies(df, prefix=['city'], drop_first=True)\n",
        "dummy_df"
      ],
      "execution_count": 0,
      "outputs": [
        {
          "output_type": "execute_result",
          "data": {
            "text/html": [
              "<div>\n",
              "<style scoped>\n",
              "    .dataframe tbody tr th:only-of-type {\n",
              "        vertical-align: middle;\n",
              "    }\n",
              "\n",
              "    .dataframe tbody tr th {\n",
              "        vertical-align: top;\n",
              "    }\n",
              "\n",
              "    .dataframe thead th {\n",
              "        text-align: right;\n",
              "    }\n",
              "</style>\n",
              "<table border=\"1\" class=\"dataframe\">\n",
              "  <thead>\n",
              "    <tr style=\"text-align: right;\">\n",
              "      <th></th>\n",
              "      <th>Rent</th>\n",
              "      <th>city_SF</th>\n",
              "      <th>city_Seattle</th>\n",
              "    </tr>\n",
              "  </thead>\n",
              "  <tbody>\n",
              "    <tr>\n",
              "      <th>0</th>\n",
              "      <td>3999</td>\n",
              "      <td>1</td>\n",
              "      <td>0</td>\n",
              "    </tr>\n",
              "    <tr>\n",
              "      <th>1</th>\n",
              "      <td>4000</td>\n",
              "      <td>1</td>\n",
              "      <td>0</td>\n",
              "    </tr>\n",
              "    <tr>\n",
              "      <th>2</th>\n",
              "      <td>4001</td>\n",
              "      <td>1</td>\n",
              "      <td>0</td>\n",
              "    </tr>\n",
              "    <tr>\n",
              "      <th>3</th>\n",
              "      <td>3499</td>\n",
              "      <td>0</td>\n",
              "      <td>0</td>\n",
              "    </tr>\n",
              "    <tr>\n",
              "      <th>4</th>\n",
              "      <td>3500</td>\n",
              "      <td>0</td>\n",
              "      <td>0</td>\n",
              "    </tr>\n",
              "    <tr>\n",
              "      <th>5</th>\n",
              "      <td>3501</td>\n",
              "      <td>0</td>\n",
              "      <td>0</td>\n",
              "    </tr>\n",
              "    <tr>\n",
              "      <th>6</th>\n",
              "      <td>2499</td>\n",
              "      <td>0</td>\n",
              "      <td>1</td>\n",
              "    </tr>\n",
              "    <tr>\n",
              "      <th>7</th>\n",
              "      <td>2500</td>\n",
              "      <td>0</td>\n",
              "      <td>1</td>\n",
              "    </tr>\n",
              "    <tr>\n",
              "      <th>8</th>\n",
              "      <td>2501</td>\n",
              "      <td>0</td>\n",
              "      <td>1</td>\n",
              "    </tr>\n",
              "  </tbody>\n",
              "</table>\n",
              "</div>"
            ],
            "text/plain": [
              "   Rent  city_SF  city_Seattle\n",
              "0  3999        1             0\n",
              "1  4000        1             0\n",
              "2  4001        1             0\n",
              "3  3499        0             0\n",
              "4  3500        0             0\n",
              "5  3501        0             0\n",
              "6  2499        0             1\n",
              "7  2500        0             1\n",
              "8  2501        0             1"
            ]
          },
          "metadata": {
            "tags": []
          },
          "execution_count": 10
        }
      ]
    },
    {
      "cell_type": "code",
      "metadata": {
        "id": "yVzvrK9qNPbj",
        "colab_type": "code",
        "outputId": "15891156-5194-4cf2-c5bc-c8e476fa3b5d",
        "colab": {
          "base_uri": "https://localhost:8080/",
          "height": 35
        }
      },
      "source": [
        "model.fit(dummy_df[['city_SF', 'city_Seattle']], dummy_df['Rent'])\n",
        "model.coef_"
      ],
      "execution_count": 0,
      "outputs": [
        {
          "output_type": "execute_result",
          "data": {
            "text/plain": [
              "array([  500., -1000.])"
            ]
          },
          "metadata": {
            "tags": []
          },
          "execution_count": 11
        }
      ]
    },
    {
      "cell_type": "code",
      "metadata": {
        "id": "-uKwyVRhNS4m",
        "colab_type": "code",
        "outputId": "27456a33-714f-48b0-eb76-a8aa524c046c",
        "colab": {
          "base_uri": "https://localhost:8080/",
          "height": 35
        }
      },
      "source": [
        "model.intercept_"
      ],
      "execution_count": 0,
      "outputs": [
        {
          "output_type": "execute_result",
          "data": {
            "text/plain": [
              "3500.0"
            ]
          },
          "metadata": {
            "tags": []
          },
          "execution_count": 12
        }
      ]
    },
    {
      "cell_type": "markdown",
      "metadata": {
        "id": "ZyDb15sCNUPw",
        "colab_type": "text"
      },
      "source": [
        "### Effect Coding"
      ]
    },
    {
      "cell_type": "markdown",
      "metadata": {
        "id": "XPWYHXQGPzlC",
        "colab_type": "text"
      },
      "source": [
        "- Effect\n",
        "coding is very similar to dummy coding, with the difference that the reference\n",
        "category is now represented by the vector of all –1’s."
      ]
    },
    {
      "cell_type": "markdown",
      "metadata": {
        "id": "fvCWHTo0QgKu",
        "colab_type": "text"
      },
      "source": [
        "### Pros and Cons of Categorical Variable Encodings"
      ]
    },
    {
      "cell_type": "markdown",
      "metadata": {
        "id": "RZFChh_1Qnxj",
        "colab_type": "text"
      },
      "source": [
        "- One-hot encoding is redundant, but the advantage is that each feature clearly corresponds to a category.\n",
        "- Missing data can be encoded as the all zeros vector.\n",
        "- Dummy coding and effect coding are not redundant.\n",
        "- Effect coding handles better when we are working with missing values.\n",
        "- Effect coding is pretty expensive to store and compute."
      ]
    },
    {
      "cell_type": "markdown",
      "metadata": {
        "id": "SJJmnqwwRfe-",
        "colab_type": "text"
      },
      "source": [
        "---"
      ]
    },
    {
      "cell_type": "markdown",
      "metadata": {
        "id": "_Tlm0tHARhja",
        "colab_type": "text"
      },
      "source": [
        "## Dealing with Large Categorical Variables"
      ]
    },
    {
      "cell_type": "markdown",
      "metadata": {
        "id": "KKHJpX4SRkzL",
        "colab_type": "text"
      },
      "source": [
        "Solutions:\n",
        "- Do nothing fancy with the encoding. Use a simple model that is cheap to train.\n",
        "- Feature hashing, popular with linear models\n",
        "- Bin counting, populat with linear models as well as trees"
      ]
    },
    {
      "cell_type": "markdown",
      "metadata": {
        "id": "35RelKwsSYxr",
        "colab_type": "text"
      },
      "source": [
        "### Feature Hashing"
      ]
    },
    {
      "cell_type": "markdown",
      "metadata": {
        "id": "B6rGainWSbXO",
        "colab_type": "text"
      },
      "source": [
        "A has function is a deterministic function that maps a potentially unbounded integer to a finite range [1, m]. Since the input domain is potentially\n",
        "larger than the output range, multiple numbers may get mapped to the same\n",
        "output. This is called a collision. A uniform hash function ensures that roughly\n",
        "the same number of numbers are mapped into each of the m bins."
      ]
    },
    {
      "cell_type": "markdown",
      "metadata": {
        "id": "QrZHVSKSTD5t",
        "colab_type": "text"
      },
      "source": [
        "### Bin counting"
      ]
    },
    {
      "cell_type": "code",
      "metadata": {
        "id": "agM4xr6MTGIV",
        "colab_type": "code",
        "colab": {}
      },
      "source": [
        ""
      ],
      "execution_count": 0,
      "outputs": []
    }
  ]
}